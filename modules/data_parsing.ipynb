{
 "cells": [
  {
   "cell_type": "markdown",
   "metadata": {},
   "source": [
    "**Input File Format**\n",
    "\n",
    "ID1 Q1 Q2 Q3 Q4 ...\n",
    "\n",
    "ID2 Q1 Q2 Q3 Q4 ...\n",
    "\n",
    "Each Line :First id then answers all separated by space (see test.txt)\n",
    "\n",
    "Special values : \"-\" for empty cell , \"?\" for empty cell with red background"
   ]
  },
  {
   "cell_type": "code",
   "execution_count": 13,
   "metadata": {},
   "outputs": [],
   "source": [
    "import pandas as pd\n"
   ]
  },
  {
   "cell_type": "code",
   "execution_count": 16,
   "metadata": {},
   "outputs": [],
   "source": [
    "\n",
    "def parse_exam_data(file_path: str, num_answers: int, delimiter: str = \" \") -> pd.DataFrame:\n",
    "    \"\"\"\n",
    "    Parses exam data from a file and converts it into a DataFrame for Excel generation.\n",
    "\n",
    "    :param file_path: Path to the input file containing the data.\n",
    "    :param num_answers: Number of answers per ID (constant across all IDs).\n",
    "    :param delimiter: Delimiter used in the file to separate ID and answers (default is space).\n",
    "    :return: A pandas DataFrame with parsed data.\n",
    "    \"\"\"\n",
    "    parsed_data = []\n",
    "    \n",
    "    try:\n",
    "        with open(file_path, 'r') as file:\n",
    "            for line in file:\n",
    "                parts = line.strip().split(delimiter)\n",
    "                if len(parts) != num_answers + 1:\n",
    "                    raise ValueError(f\"Invalid line format: {line.strip()}\")\n",
    "            \n",
    "                id_ = parts[0]\n",
    "                answers = parts[1:]\n",
    "                \n",
    "                parsed_data.append({\"ID\": id_, **{f\"Q{i+1}\": ans for i, ans in enumerate(answers)}})\n",
    "    \n",
    "    except FileNotFoundError:\n",
    "        print(f\"Error: File not found at path {file_path}\")\n",
    "        return pd.DataFrame()\n",
    "    except Exception as e:\n",
    "        print(f\"Error while parsing file: {e}\")\n",
    "        return pd.DataFrame()\n",
    "    \n",
    "    df = pd.DataFrame(parsed_data)\n",
    "    \n",
    "    df.replace(\"-\", \"\", inplace=True)  # empty cell\n",
    "    df.replace(\"?\", \"R\", inplace=True)  # empty cell (red background)\n",
    "    \n",
    "    return df\n"
   ]
  },
  {
   "cell_type": "code",
   "execution_count": null,
   "metadata": {},
   "outputs": [],
   "source": [
    "df = parse_exam_data(file_path='../RecognizedDataFiles/test.txt',num_answers=5)\n",
    "\n",
    "\n",
    "df.to_csv('../RecognizedDataFiles/test.csv',index=False)"
   ]
  }
 ],
 "metadata": {
  "kernelspec": {
   "display_name": "myenv",
   "language": "python",
   "name": "python3"
  },
  "language_info": {
   "codemirror_mode": {
    "name": "ipython",
    "version": 3
   },
   "file_extension": ".py",
   "mimetype": "text/x-python",
   "name": "python",
   "nbconvert_exporter": "python",
   "pygments_lexer": "ipython3",
   "version": "3.9.19"
  }
 },
 "nbformat": 4,
 "nbformat_minor": 2
}
