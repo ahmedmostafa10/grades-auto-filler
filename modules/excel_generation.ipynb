{
 "cells": [
  {
   "cell_type": "code",
   "execution_count": 1,
   "metadata": {},
   "outputs": [],
   "source": [
    "from openpyxl import Workbook\n",
    "from openpyxl.styles import PatternFill\n",
    "import pandas as pd"
   ]
  },
  {
   "cell_type": "code",
   "execution_count": 7,
   "metadata": {},
   "outputs": [],
   "source": [
    "def generate_excel_from_csv(csv_path: str, output_excel_path: str):\n",
    "    \"\"\"\n",
    "    Converts a CSV file into an Excel file with specific formatting.\n",
    "    \n",
    "    :param csv_path: Path to the input CSV file.\n",
    "    :param output_excel_path: Path to the output Excel file.\n",
    "    \"\"\"\n",
    "    try:\n",
    "        df = pd.read_csv(csv_path)\n",
    "        \n",
    "        workbook = Workbook()\n",
    "        sheet = workbook.active\n",
    "        sheet.title = \"Exam Data\"\n",
    "        \n",
    "        red_fill = PatternFill(start_color=\"FF0000\", end_color=\"FF0000\", fill_type=\"solid\")\n",
    "        \n",
    "        # headers\n",
    "        for col_index, column_name in enumerate(df.columns, start=1):\n",
    "            sheet.cell(row=1, column=col_index, value=column_name)\n",
    "        \n",
    "        # data\n",
    "        for row_index, row in df.iterrows():\n",
    "            for col_index, value in enumerate(row, start=1):\n",
    "                cell = sheet.cell(row=row_index + 2, column=col_index)  # +2 to account for header row\n",
    "                \n",
    "                if pd.isna(value):  # blank\n",
    "                    cell.value = None\n",
    "                elif value == 'R':  # red background\n",
    "                    cell.value = None\n",
    "                    cell.fill = red_fill\n",
    "                else:  # integer\n",
    "                    cell.value = int(value)\n",
    "        \n",
    "        workbook.save(output_excel_path)\n",
    "        print(f\"Excel file generated successfully at: {output_excel_path}\")\n",
    "    \n",
    "    except FileNotFoundError:\n",
    "        print(f\"Error: File not found at path {csv_path}\")\n",
    "    except Exception as e:\n",
    "        print(f\"Error while generating Excel file: {e}\")"
   ]
  },
  {
   "cell_type": "code",
   "execution_count": 10,
   "metadata": {},
   "outputs": [
    {
     "name": "stdout",
     "output_type": "stream",
     "text": [
      "Excel file generated successfully at: ..//GeneratedExcel/test.xlsx\n"
     ]
    }
   ],
   "source": [
    "generate_excel_from_csv(csv_path='../RecognizedDataFiles/test.csv',output_excel_path='..//GeneratedExcel/test.xlsx')"
   ]
  }
 ],
 "metadata": {
  "kernelspec": {
   "display_name": "myenv",
   "language": "python",
   "name": "python3"
  },
  "language_info": {
   "codemirror_mode": {
    "name": "ipython",
    "version": 3
   },
   "file_extension": ".py",
   "mimetype": "text/x-python",
   "name": "python",
   "nbconvert_exporter": "python",
   "pygments_lexer": "ipython3",
   "version": "3.9.19"
  }
 },
 "nbformat": 4,
 "nbformat_minor": 2
}
